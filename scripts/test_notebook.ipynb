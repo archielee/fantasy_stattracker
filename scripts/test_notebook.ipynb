{
 "cells": [
  {
   "cell_type": "code",
   "execution_count": 5,
   "id": "compliant-bones",
   "metadata": {},
   "outputs": [],
   "source": [
    "import json\n",
    "import os\n",
    "\n",
    "from yahoo_oauth import OAuth2"
   ]
  },
  {
   "cell_type": "code",
   "execution_count": 6,
   "id": "short-milton",
   "metadata": {},
   "outputs": [],
   "source": [
    "class YahooAPIAuth():\n",
    "    def __init__(self, auth_key_file='../auth_key.json'):\n",
    "        assert os.path.isfile(os.path.abspath(auth_key_file)), \\\n",
    "            \"[YahooAPIAuth] Provided file path \\\"{}\\\" does not exist\".format(auth_key_file)\n",
    "\n",
    "        # Yahoo uses OAuth2\n",
    "        self.oauth = OAuth2(None, None, from_file=os.path.abspath(auth_key_file))\n",
    "\n",
    "    def login(self):\n",
    "        if not self.oauth.token_is_valid():\n",
    "            self.oauth.refresh_access_token()"
   ]
  },
  {
   "cell_type": "code",
   "execution_count": 8,
   "id": "coastal-special",
   "metadata": {},
   "outputs": [
    {
     "name": "stderr",
     "output_type": "stream",
     "text": [
      "[2021-02-20 16:10:56,908 DEBUG] [yahoo_oauth.oauth.__init__] Checking \n",
      "[2021-02-20 16:10:56,910 DEBUG] [yahoo_oauth.oauth.handler] AUTHORISATION URL : https://api.login.yahoo.com/oauth2/request_auth?client_id=dj0yJmk9ZERDbGF2RWpodjE1JmQ9WVdrOVYwTnpPVEpNV2pBbWNHbzlNQT09JnM9Y29uc3VtZXJzZWNyZXQmc3Y9MCZ4PTlj&response_type=code&redirect_uri=oob\n"
     ]
    },
    {
     "name": "stdout",
     "output_type": "stream",
     "text": [
      "Enter verifier : rgt9vr8\n"
     ]
    }
   ],
   "source": [
    "oauth = YahooAPIAuth()"
   ]
  },
  {
   "cell_type": "code",
   "execution_count": null,
   "id": "proved-watch",
   "metadata": {},
   "outputs": [],
   "source": [
    "class Authorize():\n",
    "    def AuthorizeLeague(self):\n",
    "        # UPDATE LEAGUE GAME ID\n",
    "        yahoo_api._login()\n",
    "        url = 'https://fantasysports.yahooapis.com/fantasy/v2/league/380.l.XXXXXX/transactions'\n",
    "        response = oauth.session.get(url, params={'format': 'json'})\n",
    "        r = response.json()\n",
    "        #with open('YahooGameInfo.json', 'w') as outfile:\n",
    "            #json.dump(r, outfile)\n",
    "            #return;\n",
    "\n",
    "def main():\n",
    "##### Get Yahoo Auth ####\n",
    "\n",
    "    # Yahoo Keys\n",
    "    with open('../auth/oauth2yahoo.json') as json_yahoo_file:\n",
    "        auths = json.load(json_yahoo_file)\n",
    "    yahoo_consumer_key = auths['consumer_key']\n",
    "    yahoo_consumer_secret = auths['consumer_secret']\n",
    "    #yahoo_access_token = auths['access_token']\n",
    "    #yahoo_access_secret = auths['access_token_secret']\n",
    "    json_yahoo_file.close()\n",
    "\n",
    "#### Declare Yahoo Variable ####\n",
    "\n",
    "    global yahoo_api\n",
    "    yahoo_api = Yahoo_Api(yahoo_consumer_key,\n",
    "                            yahoo_consumer_secret,\n",
    "                            #yahoo_access_token,\n",
    "                            #yahoo_access_secret)\n",
    "                                )\n",
    "#### Where the magic happen ####\n",
    "    bot = Bot(yahoo_api)\n",
    "    bot.run()\n",
    "\n",
    "class Bot():\n",
    "    def __init__(self, yahoo_api):\n",
    "\n",
    "        self._yahoo_api = yahoo_api\n",
    "\n",
    "    def run(self):\n",
    "        # Data Updates\n",
    "        at = Authorize()\n",
    "        at.AuthorizeLeague()\n",
    "        print('Authorization Complete')\n",
    "\n",
    "if __name__ == \"__main__\":\n",
    "    main()"
   ]
  }
 ],
 "metadata": {
  "kernelspec": {
   "display_name": "Python 3",
   "language": "python",
   "name": "python3"
  },
  "language_info": {
   "codemirror_mode": {
    "name": "ipython",
    "version": 3
   },
   "file_extension": ".py",
   "mimetype": "text/x-python",
   "name": "python",
   "nbconvert_exporter": "python",
   "pygments_lexer": "ipython3",
   "version": "3.5.2"
  }
 },
 "nbformat": 4,
 "nbformat_minor": 5
}
